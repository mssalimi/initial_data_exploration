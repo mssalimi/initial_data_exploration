{
 "cells": [
  {
   "cell_type": "markdown",
   "metadata": {
    "colab_type": "text",
    "id": "vrqBoJqvgyEg"
   },
   "source": [
    "<div class=\"alert alert-block alert-info\"><b></b>\n",
    "<h1><center> <font color='black'> Homework 01  </font></center></h1>\n",
    "<h2><center> <font color='black'> Introduction and first look at the data </font></center></h2>    \n",
    "<h2><center> <font color='black'> BDA - University of Tartu - Spring 2020</font></center></h3>\n",
    "</div>"
   ]
  },
  {
   "cell_type": "markdown",
   "metadata": {
    "colab_type": "text",
    "id": "sCCZbDuZgyEj"
   },
   "source": [
    "# 1. Python and Pandas (4.5 points)"
   ]
  },
  {
   "cell_type": "markdown",
   "metadata": {
    "colab_type": "text",
    "id": "xOZOWT9xgyEl"
   },
   "source": [
    "First, let's import pandas package as pd and read data from the CSV file into a pandas DataFrame."
   ]
  },
  {
   "cell_type": "code",
   "execution_count": 1,
   "metadata": {
    "colab": {},
    "colab_type": "code",
    "id": "CuwdGoezgyEm"
   },
   "outputs": [],
   "source": [
    "import pandas as pd\n",
    "data = pd.read_csv(\"abalone.csv\")"
   ]
  },
  {
   "cell_type": "markdown",
   "metadata": {
    "colab_type": "text",
    "id": "NiAAHDUUgyEr"
   },
   "source": [
    " **1.0. What is overall memory consumption of the data?**"
   ]
  },
  {
   "cell_type": "code",
   "execution_count": 2,
   "metadata": {
    "colab": {},
    "colab_type": "code",
    "id": "IgejyfJXgyEs"
   },
   "outputs": [
    {
     "data": {
      "text/plain": [
       "102128"
      ]
     },
     "execution_count": 2,
     "metadata": {},
     "output_type": "execute_result"
    }
   ],
   "source": [
    "# TODO - here you have to write the code how did you find the answer.\n",
    "data.memory_usage(deep=True).sum()"
   ]
  },
  {
   "cell_type": "markdown",
   "metadata": {
    "colab_type": "text",
    "id": "e4vjuR2_gyEu"
   },
   "source": [
    "**<font color='red'>Answer:</font>** The total memory usage is 102080 bytes (102,08 kb)."
   ]
  },
  {
   "cell_type": "markdown",
   "metadata": {
    "colab_type": "text",
    "id": "VvZjPHCegyEv"
   },
   "source": [
    " **1.1. What are the column names of the dataset?** **(0.25 point)**"
   ]
  },
  {
   "cell_type": "code",
   "execution_count": 3,
   "metadata": {
    "colab": {},
    "colab_type": "code",
    "id": "q4Aiwr-TgyEw"
   },
   "outputs": [
    {
     "data": {
      "text/plain": [
       "Index(['Gender', 'Length', 'Diameter', 'Height', 'Weight', 'Rings'], dtype='object')"
      ]
     },
     "execution_count": 3,
     "metadata": {},
     "output_type": "execute_result"
    }
   ],
   "source": [
    "# TODO\n",
    "data.columns"
   ]
  },
  {
   "cell_type": "markdown",
   "metadata": {
    "colab_type": "text",
    "id": "ISRKVsizgyEy"
   },
   "source": [
    "**<font color='red'>Answer:</font>** The columns are: 'Gender', 'Length', 'Diameter', 'Height', 'Weight', 'Rings'."
   ]
  },
  {
   "cell_type": "markdown",
   "metadata": {
    "colab_type": "text",
    "id": "B9QwvJRAgyEz"
   },
   "source": [
    "**1.2. How many observations (i.e. rows) are in this data frame?** **(0.25 point)**"
   ]
  },
  {
   "cell_type": "code",
   "execution_count": 4,
   "metadata": {
    "colab": {},
    "colab_type": "code",
    "id": "7Sf3o8PzgyE0"
   },
   "outputs": [
    {
     "data": {
      "text/plain": [
       "(1000, 6)"
      ]
     },
     "execution_count": 4,
     "metadata": {},
     "output_type": "execute_result"
    }
   ],
   "source": [
    "# TODO\n",
    "data.shape"
   ]
  },
  {
   "cell_type": "markdown",
   "metadata": {
    "colab_type": "text",
    "id": "gGNbN-ttgyE2"
   },
   "source": [
    "**<font color='red'>Answer:</font>** There are 1000 rows and 6 columns in the dataset."
   ]
  },
  {
   "cell_type": "markdown",
   "metadata": {
    "colab_type": "text",
    "id": "7bNY26vggyE4"
   },
   "source": [
    "**1.3. Print the first 5 lines from the dataset. What are the values of feature \"Rings\" of the printed observations?** **(0.25 point)**"
   ]
  },
  {
   "cell_type": "code",
   "execution_count": 5,
   "metadata": {
    "colab": {},
    "colab_type": "code",
    "id": "pozF0WCagyE5"
   },
   "outputs": [
    {
     "data": {
      "text/html": [
       "<div>\n",
       "<style scoped>\n",
       "    .dataframe tbody tr th:only-of-type {\n",
       "        vertical-align: middle;\n",
       "    }\n",
       "\n",
       "    .dataframe tbody tr th {\n",
       "        vertical-align: top;\n",
       "    }\n",
       "\n",
       "    .dataframe thead th {\n",
       "        text-align: right;\n",
       "    }\n",
       "</style>\n",
       "<table border=\"1\" class=\"dataframe\">\n",
       "  <thead>\n",
       "    <tr style=\"text-align: right;\">\n",
       "      <th></th>\n",
       "      <th>Gender</th>\n",
       "      <th>Length</th>\n",
       "      <th>Diameter</th>\n",
       "      <th>Height</th>\n",
       "      <th>Weight</th>\n",
       "      <th>Rings</th>\n",
       "    </tr>\n",
       "  </thead>\n",
       "  <tbody>\n",
       "    <tr>\n",
       "      <td>0</td>\n",
       "      <td>F</td>\n",
       "      <td>0.505</td>\n",
       "      <td>0.385</td>\n",
       "      <td>0.135</td>\n",
       "      <td>0.6185</td>\n",
       "      <td>12</td>\n",
       "    </tr>\n",
       "    <tr>\n",
       "      <td>1</td>\n",
       "      <td>F</td>\n",
       "      <td>0.650</td>\n",
       "      <td>0.475</td>\n",
       "      <td>0.165</td>\n",
       "      <td>1.3875</td>\n",
       "      <td>9</td>\n",
       "    </tr>\n",
       "    <tr>\n",
       "      <td>2</td>\n",
       "      <td>I</td>\n",
       "      <td>0.520</td>\n",
       "      <td>0.380</td>\n",
       "      <td>0.135</td>\n",
       "      <td>0.5395</td>\n",
       "      <td>8</td>\n",
       "    </tr>\n",
       "    <tr>\n",
       "      <td>3</td>\n",
       "      <td>F</td>\n",
       "      <td>0.550</td>\n",
       "      <td>0.425</td>\n",
       "      <td>0.140</td>\n",
       "      <td>0.9520</td>\n",
       "      <td>7</td>\n",
       "    </tr>\n",
       "    <tr>\n",
       "      <td>4</td>\n",
       "      <td>M</td>\n",
       "      <td>0.640</td>\n",
       "      <td>0.525</td>\n",
       "      <td>0.180</td>\n",
       "      <td>1.3135</td>\n",
       "      <td>10</td>\n",
       "    </tr>\n",
       "  </tbody>\n",
       "</table>\n",
       "</div>"
      ],
      "text/plain": [
       "  Gender  Length  Diameter  Height  Weight  Rings\n",
       "0      F   0.505     0.385   0.135  0.6185     12\n",
       "1      F   0.650     0.475   0.165  1.3875      9\n",
       "2      I   0.520     0.380   0.135  0.5395      8\n",
       "3      F   0.550     0.425   0.140  0.9520      7\n",
       "4      M   0.640     0.525   0.180  1.3135     10"
      ]
     },
     "execution_count": 5,
     "metadata": {},
     "output_type": "execute_result"
    }
   ],
   "source": [
    "# TODO\n",
    "data.head()"
   ]
  },
  {
   "cell_type": "markdown",
   "metadata": {
    "colab_type": "text",
    "id": "i3S6mDeJgyE7"
   },
   "source": [
    "**<font color='red'>Answer:</font>** Answer goes here."
   ]
  },
  {
   "cell_type": "markdown",
   "metadata": {
    "colab_type": "text",
    "id": "CKvqW0PYgyE8"
   },
   "source": [
    "**1.4. Extract the last 3 rows of the data frame. What is the \"Weight\" of these abalones?** **(0.25 point)**"
   ]
  },
  {
   "cell_type": "code",
   "execution_count": 6,
   "metadata": {
    "colab": {},
    "colab_type": "code",
    "id": "yFQPHLnVgyE8"
   },
   "outputs": [
    {
     "data": {
      "text/html": [
       "<div>\n",
       "<style scoped>\n",
       "    .dataframe tbody tr th:only-of-type {\n",
       "        vertical-align: middle;\n",
       "    }\n",
       "\n",
       "    .dataframe tbody tr th {\n",
       "        vertical-align: top;\n",
       "    }\n",
       "\n",
       "    .dataframe thead th {\n",
       "        text-align: right;\n",
       "    }\n",
       "</style>\n",
       "<table border=\"1\" class=\"dataframe\">\n",
       "  <thead>\n",
       "    <tr style=\"text-align: right;\">\n",
       "      <th></th>\n",
       "      <th>Gender</th>\n",
       "      <th>Length</th>\n",
       "      <th>Diameter</th>\n",
       "      <th>Height</th>\n",
       "      <th>Weight</th>\n",
       "      <th>Rings</th>\n",
       "    </tr>\n",
       "  </thead>\n",
       "  <tbody>\n",
       "    <tr>\n",
       "      <td>997</td>\n",
       "      <td>M</td>\n",
       "      <td>0.660</td>\n",
       "      <td>0.500</td>\n",
       "      <td>0.165</td>\n",
       "      <td>1.3195</td>\n",
       "      <td>9</td>\n",
       "    </tr>\n",
       "    <tr>\n",
       "      <td>998</td>\n",
       "      <td>I</td>\n",
       "      <td>0.525</td>\n",
       "      <td>0.400</td>\n",
       "      <td>0.130</td>\n",
       "      <td>0.6455</td>\n",
       "      <td>8</td>\n",
       "    </tr>\n",
       "    <tr>\n",
       "      <td>999</td>\n",
       "      <td>M</td>\n",
       "      <td>0.515</td>\n",
       "      <td>0.395</td>\n",
       "      <td>0.135</td>\n",
       "      <td>1.0070</td>\n",
       "      <td>8</td>\n",
       "    </tr>\n",
       "  </tbody>\n",
       "</table>\n",
       "</div>"
      ],
      "text/plain": [
       "    Gender  Length  Diameter  Height  Weight  Rings\n",
       "997      M   0.660     0.500   0.165  1.3195      9\n",
       "998      I   0.525     0.400   0.130  0.6455      8\n",
       "999      M   0.515     0.395   0.135  1.0070      8"
      ]
     },
     "execution_count": 6,
     "metadata": {},
     "output_type": "execute_result"
    }
   ],
   "source": [
    "# TODO\n",
    "data.tail(3)"
   ]
  },
  {
   "cell_type": "markdown",
   "metadata": {
    "colab_type": "text",
    "id": "5e46xJ0WgyE-"
   },
   "source": [
    "**<font color='red'>Answer:</font>** The last 3 rows are 997, 998 and 999. Their 'Weight' are 1.3195, 0.6455 are 1.0079 respectively."
   ]
  },
  {
   "cell_type": "markdown",
   "metadata": {
    "colab_type": "text",
    "id": "IAG09Z2SgyE_"
   },
   "source": [
    "**1.5. What is the value of diameter in the row 577?** **(1 point)**"
   ]
  },
  {
   "cell_type": "code",
   "execution_count": 7,
   "metadata": {
    "colab": {},
    "colab_type": "code",
    "id": "e6p3_5BSgyFA"
   },
   "outputs": [
    {
     "data": {
      "text/html": [
       "<div>\n",
       "<style scoped>\n",
       "    .dataframe tbody tr th:only-of-type {\n",
       "        vertical-align: middle;\n",
       "    }\n",
       "\n",
       "    .dataframe tbody tr th {\n",
       "        vertical-align: top;\n",
       "    }\n",
       "\n",
       "    .dataframe thead th {\n",
       "        text-align: right;\n",
       "    }\n",
       "</style>\n",
       "<table border=\"1\" class=\"dataframe\">\n",
       "  <thead>\n",
       "    <tr style=\"text-align: right;\">\n",
       "      <th></th>\n",
       "      <th>Gender</th>\n",
       "      <th>Length</th>\n",
       "      <th>Diameter</th>\n",
       "      <th>Height</th>\n",
       "      <th>Weight</th>\n",
       "      <th>Rings</th>\n",
       "    </tr>\n",
       "  </thead>\n",
       "  <tbody>\n",
       "    <tr>\n",
       "      <td>577</td>\n",
       "      <td>M</td>\n",
       "      <td>0.565</td>\n",
       "      <td>0.455</td>\n",
       "      <td>0.155</td>\n",
       "      <td>0.9355</td>\n",
       "      <td>11</td>\n",
       "    </tr>\n",
       "  </tbody>\n",
       "</table>\n",
       "</div>"
      ],
      "text/plain": [
       "    Gender  Length  Diameter  Height  Weight  Rings\n",
       "577      M   0.565     0.455   0.155  0.9355     11"
      ]
     },
     "execution_count": 7,
     "metadata": {},
     "output_type": "execute_result"
    }
   ],
   "source": [
    "# TODO\n",
    "data.loc[data.index == 577]"
   ]
  },
  {
   "cell_type": "markdown",
   "metadata": {
    "colab_type": "text",
    "id": "efDYLF-YgyFC"
   },
   "source": [
    "**<font color='red'>Answer:</font>** The diameter of 577 is 0.455."
   ]
  },
  {
   "cell_type": "markdown",
   "metadata": {
    "colab_type": "text",
    "id": "PbMP_QZigyFC"
   },
   "source": [
    "**1.6. What is the mean of the height column?** **(0.5 point)** <br>\n",
    "Hint 1: Use pandas describe() method"
   ]
  },
  {
   "cell_type": "code",
   "execution_count": 8,
   "metadata": {
    "colab": {},
    "colab_type": "code",
    "id": "Zsjdbu1MgyFD"
   },
   "outputs": [
    {
     "data": {
      "text/html": [
       "<div>\n",
       "<style scoped>\n",
       "    .dataframe tbody tr th:only-of-type {\n",
       "        vertical-align: middle;\n",
       "    }\n",
       "\n",
       "    .dataframe tbody tr th {\n",
       "        vertical-align: top;\n",
       "    }\n",
       "\n",
       "    .dataframe thead th {\n",
       "        text-align: right;\n",
       "    }\n",
       "</style>\n",
       "<table border=\"1\" class=\"dataframe\">\n",
       "  <thead>\n",
       "    <tr style=\"text-align: right;\">\n",
       "      <th></th>\n",
       "      <th>Length</th>\n",
       "      <th>Diameter</th>\n",
       "      <th>Height</th>\n",
       "      <th>Weight</th>\n",
       "      <th>Rings</th>\n",
       "    </tr>\n",
       "  </thead>\n",
       "  <tbody>\n",
       "    <tr>\n",
       "      <td>count</td>\n",
       "      <td>1000.000000</td>\n",
       "      <td>1000.000000</td>\n",
       "      <td>1000.000000</td>\n",
       "      <td>1000.000000</td>\n",
       "      <td>1000.000000</td>\n",
       "    </tr>\n",
       "    <tr>\n",
       "      <td>mean</td>\n",
       "      <td>0.522760</td>\n",
       "      <td>0.405955</td>\n",
       "      <td>0.141100</td>\n",
       "      <td>0.825540</td>\n",
       "      <td>11.318000</td>\n",
       "    </tr>\n",
       "    <tr>\n",
       "      <td>std</td>\n",
       "      <td>0.120064</td>\n",
       "      <td>0.098832</td>\n",
       "      <td>0.057064</td>\n",
       "      <td>0.490380</td>\n",
       "      <td>47.227697</td>\n",
       "    </tr>\n",
       "    <tr>\n",
       "      <td>min</td>\n",
       "      <td>0.075000</td>\n",
       "      <td>0.055000</td>\n",
       "      <td>0.000000</td>\n",
       "      <td>0.002000</td>\n",
       "      <td>1.000000</td>\n",
       "    </tr>\n",
       "    <tr>\n",
       "      <td>25%</td>\n",
       "      <td>0.450000</td>\n",
       "      <td>0.345000</td>\n",
       "      <td>0.115000</td>\n",
       "      <td>0.438875</td>\n",
       "      <td>8.000000</td>\n",
       "    </tr>\n",
       "    <tr>\n",
       "      <td>50%</td>\n",
       "      <td>0.545000</td>\n",
       "      <td>0.420000</td>\n",
       "      <td>0.145000</td>\n",
       "      <td>0.801000</td>\n",
       "      <td>9.000000</td>\n",
       "    </tr>\n",
       "    <tr>\n",
       "      <td>75%</td>\n",
       "      <td>0.615000</td>\n",
       "      <td>0.480000</td>\n",
       "      <td>0.165000</td>\n",
       "      <td>1.146250</td>\n",
       "      <td>11.000000</td>\n",
       "    </tr>\n",
       "    <tr>\n",
       "      <td>max</td>\n",
       "      <td>0.815000</td>\n",
       "      <td>0.650000</td>\n",
       "      <td>1.130000</td>\n",
       "      <td>2.555000</td>\n",
       "      <td>1500.000000</td>\n",
       "    </tr>\n",
       "  </tbody>\n",
       "</table>\n",
       "</div>"
      ],
      "text/plain": [
       "            Length     Diameter       Height       Weight        Rings\n",
       "count  1000.000000  1000.000000  1000.000000  1000.000000  1000.000000\n",
       "mean      0.522760     0.405955     0.141100     0.825540    11.318000\n",
       "std       0.120064     0.098832     0.057064     0.490380    47.227697\n",
       "min       0.075000     0.055000     0.000000     0.002000     1.000000\n",
       "25%       0.450000     0.345000     0.115000     0.438875     8.000000\n",
       "50%       0.545000     0.420000     0.145000     0.801000     9.000000\n",
       "75%       0.615000     0.480000     0.165000     1.146250    11.000000\n",
       "max       0.815000     0.650000     1.130000     2.555000  1500.000000"
      ]
     },
     "execution_count": 8,
     "metadata": {},
     "output_type": "execute_result"
    }
   ],
   "source": [
    "# TODO\n",
    "data.describe()"
   ]
  },
  {
   "cell_type": "markdown",
   "metadata": {
    "colab_type": "text",
    "id": "MXUVEljWgyFF"
   },
   "source": [
    "**<font color='red'>Answer:</font>** The mean of \"Height\" is 0.14110."
   ]
  },
  {
   "cell_type": "markdown",
   "metadata": {
    "colab_type": "text",
    "id": "rqK3C2AZgyFF"
   },
   "source": [
    "**1.7. Extract the subset of rows of the data frame where gender is M and weight values are below 0.75. What is the mean of diameter in this subset?** **(1 point)**"
   ]
  },
  {
   "cell_type": "code",
   "execution_count": 9,
   "metadata": {
    "colab": {},
    "colab_type": "code",
    "id": "0QpY4bo0gyFG"
   },
   "outputs": [
    {
     "data": {
      "text/html": [
       "<div>\n",
       "<style scoped>\n",
       "    .dataframe tbody tr th:only-of-type {\n",
       "        vertical-align: middle;\n",
       "    }\n",
       "\n",
       "    .dataframe tbody tr th {\n",
       "        vertical-align: top;\n",
       "    }\n",
       "\n",
       "    .dataframe thead th {\n",
       "        text-align: right;\n",
       "    }\n",
       "</style>\n",
       "<table border=\"1\" class=\"dataframe\">\n",
       "  <thead>\n",
       "    <tr style=\"text-align: right;\">\n",
       "      <th></th>\n",
       "      <th>Length</th>\n",
       "      <th>Diameter</th>\n",
       "      <th>Height</th>\n",
       "      <th>Weight</th>\n",
       "      <th>Rings</th>\n",
       "    </tr>\n",
       "  </thead>\n",
       "  <tbody>\n",
       "    <tr>\n",
       "      <td>count</td>\n",
       "      <td>119.000000</td>\n",
       "      <td>119.000000</td>\n",
       "      <td>119.000000</td>\n",
       "      <td>119.000000</td>\n",
       "      <td>119.000000</td>\n",
       "    </tr>\n",
       "    <tr>\n",
       "      <td>mean</td>\n",
       "      <td>0.444118</td>\n",
       "      <td>0.342647</td>\n",
       "      <td>0.115504</td>\n",
       "      <td>0.467366</td>\n",
       "      <td>8.865546</td>\n",
       "    </tr>\n",
       "    <tr>\n",
       "      <td>std</td>\n",
       "      <td>0.075819</td>\n",
       "      <td>0.063027</td>\n",
       "      <td>0.022193</td>\n",
       "      <td>0.196004</td>\n",
       "      <td>1.986925</td>\n",
       "    </tr>\n",
       "    <tr>\n",
       "      <td>min</td>\n",
       "      <td>0.235000</td>\n",
       "      <td>0.160000</td>\n",
       "      <td>0.055000</td>\n",
       "      <td>0.051500</td>\n",
       "      <td>4.000000</td>\n",
       "    </tr>\n",
       "    <tr>\n",
       "      <td>25%</td>\n",
       "      <td>0.385000</td>\n",
       "      <td>0.295000</td>\n",
       "      <td>0.100000</td>\n",
       "      <td>0.291500</td>\n",
       "      <td>7.500000</td>\n",
       "    </tr>\n",
       "    <tr>\n",
       "      <td>50%</td>\n",
       "      <td>0.465000</td>\n",
       "      <td>0.360000</td>\n",
       "      <td>0.115000</td>\n",
       "      <td>0.495500</td>\n",
       "      <td>9.000000</td>\n",
       "    </tr>\n",
       "    <tr>\n",
       "      <td>75%</td>\n",
       "      <td>0.500000</td>\n",
       "      <td>0.385000</td>\n",
       "      <td>0.130000</td>\n",
       "      <td>0.643250</td>\n",
       "      <td>10.000000</td>\n",
       "    </tr>\n",
       "    <tr>\n",
       "      <td>max</td>\n",
       "      <td>0.575000</td>\n",
       "      <td>0.455000</td>\n",
       "      <td>0.190000</td>\n",
       "      <td>0.749500</td>\n",
       "      <td>14.000000</td>\n",
       "    </tr>\n",
       "  </tbody>\n",
       "</table>\n",
       "</div>"
      ],
      "text/plain": [
       "           Length    Diameter      Height      Weight       Rings\n",
       "count  119.000000  119.000000  119.000000  119.000000  119.000000\n",
       "mean     0.444118    0.342647    0.115504    0.467366    8.865546\n",
       "std      0.075819    0.063027    0.022193    0.196004    1.986925\n",
       "min      0.235000    0.160000    0.055000    0.051500    4.000000\n",
       "25%      0.385000    0.295000    0.100000    0.291500    7.500000\n",
       "50%      0.465000    0.360000    0.115000    0.495500    9.000000\n",
       "75%      0.500000    0.385000    0.130000    0.643250   10.000000\n",
       "max      0.575000    0.455000    0.190000    0.749500   14.000000"
      ]
     },
     "execution_count": 9,
     "metadata": {},
     "output_type": "execute_result"
    }
   ],
   "source": [
    "# TODO\n",
    "data.loc[(data.Gender == 'M') & (data.Weight < 0.75)].describe()"
   ]
  },
  {
   "cell_type": "markdown",
   "metadata": {
    "colab_type": "text",
    "id": "YaMEfs3ogyFJ"
   },
   "source": [
    "**<font color='red'>Answer:</font>** The mean of diameter in subset is 0.342647."
   ]
  },
  {
   "cell_type": "markdown",
   "metadata": {
    "colab_type": "text",
    "id": "B7Yd8ZPSgyFK"
   },
   "source": [
    "**1.8. What is the minimum of length when rings is equal to 18?** **(1 point)**"
   ]
  },
  {
   "cell_type": "code",
   "execution_count": 10,
   "metadata": {
    "colab": {},
    "colab_type": "code",
    "id": "_IeMWswJgyFK"
   },
   "outputs": [
    {
     "data": {
      "text/plain": [
       "0.465"
      ]
     },
     "execution_count": 10,
     "metadata": {},
     "output_type": "execute_result"
    }
   ],
   "source": [
    "# TODO\n",
    "rings18 = data.loc[data.Rings == 18]\n",
    "rings18['Length'].min()"
   ]
  },
  {
   "cell_type": "markdown",
   "metadata": {
    "colab_type": "text",
    "id": "8tbre7YtgyFM"
   },
   "source": [
    "**<font color='red'>Answer:</font>** The minimum Length of where rings equal to 18 is 0.465."
   ]
  },
  {
   "cell_type": "markdown",
   "metadata": {
    "colab_type": "text",
    "id": "sDL-xKNugyFN"
   },
   "source": [
    "# 2.  Data understanding (2.5 point)"
   ]
  },
  {
   "cell_type": "markdown",
   "metadata": {
    "colab_type": "text",
    "id": "hyESgblXgyFN"
   },
   "source": [
    "Collecting, describing, exploring and verifying data quality are <b>very important</b> steps in any data science task. In this exercise the main goal is to understand the attributes in the 'adult' dataset.<br>"
   ]
  },
  {
   "cell_type": "markdown",
   "metadata": {
    "colab_type": "text",
    "id": "qqaqaUAtgyFO"
   },
   "source": [
    "**2.0. Load data from the  `adult.csv` file.** <br>\n",
    "Hint 1: The extension of the filename may not always reflect the structure of data precisely. Are the values comma-separated (csv) or not? "
   ]
  },
  {
   "cell_type": "code",
   "execution_count": 11,
   "metadata": {
    "colab": {},
    "colab_type": "code",
    "id": "MiipOOJ0gyFP",
    "scrolled": false
   },
   "outputs": [
    {
     "data": {
      "text/html": [
       "<div>\n",
       "<style scoped>\n",
       "    .dataframe tbody tr th:only-of-type {\n",
       "        vertical-align: middle;\n",
       "    }\n",
       "\n",
       "    .dataframe tbody tr th {\n",
       "        vertical-align: top;\n",
       "    }\n",
       "\n",
       "    .dataframe thead th {\n",
       "        text-align: right;\n",
       "    }\n",
       "</style>\n",
       "<table border=\"1\" class=\"dataframe\">\n",
       "  <thead>\n",
       "    <tr style=\"text-align: right;\">\n",
       "      <th></th>\n",
       "      <th>X</th>\n",
       "      <th>age</th>\n",
       "      <th>workclass</th>\n",
       "      <th>education</th>\n",
       "      <th>occupation</th>\n",
       "      <th>capital.gain</th>\n",
       "      <th>capital.loss</th>\n",
       "      <th>native.country</th>\n",
       "      <th>salaries</th>\n",
       "      <th>jobsatisfaction</th>\n",
       "      <th>male</th>\n",
       "      <th>female</th>\n",
       "    </tr>\n",
       "  </thead>\n",
       "  <tbody>\n",
       "    <tr>\n",
       "      <td>0</td>\n",
       "      <td>0</td>\n",
       "      <td>39</td>\n",
       "      <td>State-gov</td>\n",
       "      <td>Bachelors</td>\n",
       "      <td>Adm-clerical</td>\n",
       "      <td>2174</td>\n",
       "      <td>0</td>\n",
       "      <td>United-States</td>\n",
       "      <td>43136.0</td>\n",
       "      <td>0</td>\n",
       "      <td>1.0</td>\n",
       "      <td>NaN</td>\n",
       "    </tr>\n",
       "    <tr>\n",
       "      <td>1</td>\n",
       "      <td>1</td>\n",
       "      <td>50</td>\n",
       "      <td>Self-emp-not-inc</td>\n",
       "      <td>Bachelors</td>\n",
       "      <td>Exec-managerial</td>\n",
       "      <td>0</td>\n",
       "      <td>0</td>\n",
       "      <td>UnitedStates</td>\n",
       "      <td>46209.0</td>\n",
       "      <td>7</td>\n",
       "      <td>1.0</td>\n",
       "      <td>NaN</td>\n",
       "    </tr>\n",
       "    <tr>\n",
       "      <td>2</td>\n",
       "      <td>2</td>\n",
       "      <td>38</td>\n",
       "      <td>privat</td>\n",
       "      <td>HS-grad</td>\n",
       "      <td>Handlers-cleaners</td>\n",
       "      <td>0</td>\n",
       "      <td>0</td>\n",
       "      <td>United-States</td>\n",
       "      <td>28937.0</td>\n",
       "      <td>6</td>\n",
       "      <td>1.0</td>\n",
       "      <td>NaN</td>\n",
       "    </tr>\n",
       "    <tr>\n",
       "      <td>3</td>\n",
       "      <td>3</td>\n",
       "      <td>53</td>\n",
       "      <td>privat</td>\n",
       "      <td>11th</td>\n",
       "      <td>Handlers-cleaners</td>\n",
       "      <td>0</td>\n",
       "      <td>0</td>\n",
       "      <td>United-States</td>\n",
       "      <td>33658.0</td>\n",
       "      <td>6</td>\n",
       "      <td>1.0</td>\n",
       "      <td>NaN</td>\n",
       "    </tr>\n",
       "    <tr>\n",
       "      <td>4</td>\n",
       "      <td>4</td>\n",
       "      <td>28</td>\n",
       "      <td>privat</td>\n",
       "      <td>Bachelors</td>\n",
       "      <td>Prof-specialty</td>\n",
       "      <td>0</td>\n",
       "      <td>0</td>\n",
       "      <td>Cuba</td>\n",
       "      <td>34372.0</td>\n",
       "      <td>12</td>\n",
       "      <td>NaN</td>\n",
       "      <td>1.0</td>\n",
       "    </tr>\n",
       "    <tr>\n",
       "      <td>...</td>\n",
       "      <td>...</td>\n",
       "      <td>...</td>\n",
       "      <td>...</td>\n",
       "      <td>...</td>\n",
       "      <td>...</td>\n",
       "      <td>...</td>\n",
       "      <td>...</td>\n",
       "      <td>...</td>\n",
       "      <td>...</td>\n",
       "      <td>...</td>\n",
       "      <td>...</td>\n",
       "      <td>...</td>\n",
       "    </tr>\n",
       "    <tr>\n",
       "      <td>32556</td>\n",
       "      <td>32556</td>\n",
       "      <td>27</td>\n",
       "      <td>Private</td>\n",
       "      <td>Assoc-acdm</td>\n",
       "      <td>Tech-support</td>\n",
       "      <td>0</td>\n",
       "      <td>0</td>\n",
       "      <td>United-States</td>\n",
       "      <td>21393.0</td>\n",
       "      <td>14</td>\n",
       "      <td>NaN</td>\n",
       "      <td>1.0</td>\n",
       "    </tr>\n",
       "    <tr>\n",
       "      <td>32557</td>\n",
       "      <td>32557</td>\n",
       "      <td>40</td>\n",
       "      <td>Private</td>\n",
       "      <td>HS-grad</td>\n",
       "      <td>Machine-op-inspct</td>\n",
       "      <td>0</td>\n",
       "      <td>0</td>\n",
       "      <td>United-States</td>\n",
       "      <td>75199.0</td>\n",
       "      <td>10</td>\n",
       "      <td>1.0</td>\n",
       "      <td>NaN</td>\n",
       "    </tr>\n",
       "    <tr>\n",
       "      <td>32558</td>\n",
       "      <td>32558</td>\n",
       "      <td>58</td>\n",
       "      <td>Private</td>\n",
       "      <td>HS-grad</td>\n",
       "      <td>Adm-clerical</td>\n",
       "      <td>0</td>\n",
       "      <td>0</td>\n",
       "      <td>United-States</td>\n",
       "      <td>25603.0</td>\n",
       "      <td>1</td>\n",
       "      <td>NaN</td>\n",
       "      <td>1.0</td>\n",
       "    </tr>\n",
       "    <tr>\n",
       "      <td>32559</td>\n",
       "      <td>32559</td>\n",
       "      <td>22</td>\n",
       "      <td>Private</td>\n",
       "      <td>HS-grad</td>\n",
       "      <td>Adm-clerical</td>\n",
       "      <td>0</td>\n",
       "      <td>0</td>\n",
       "      <td>United-States</td>\n",
       "      <td>42138.0</td>\n",
       "      <td>3</td>\n",
       "      <td>1.0</td>\n",
       "      <td>NaN</td>\n",
       "    </tr>\n",
       "    <tr>\n",
       "      <td>32560</td>\n",
       "      <td>32560</td>\n",
       "      <td>52</td>\n",
       "      <td>Self-emp-inc</td>\n",
       "      <td>HS-grad</td>\n",
       "      <td>Exec-managerial</td>\n",
       "      <td>15024</td>\n",
       "      <td>0</td>\n",
       "      <td>United-States</td>\n",
       "      <td>71709.0</td>\n",
       "      <td>9</td>\n",
       "      <td>NaN</td>\n",
       "      <td>1.0</td>\n",
       "    </tr>\n",
       "  </tbody>\n",
       "</table>\n",
       "<p>32561 rows × 12 columns</p>\n",
       "</div>"
      ],
      "text/plain": [
       "           X age          workclass    education          occupation  \\\n",
       "0          0  39          State-gov    Bachelors        Adm-clerical   \n",
       "1          1  50   Self-emp-not-inc    Bachelors     Exec-managerial   \n",
       "2          2  38             privat      HS-grad   Handlers-cleaners   \n",
       "3          3  53             privat         11th   Handlers-cleaners   \n",
       "4          4  28             privat    Bachelors      Prof-specialty   \n",
       "...      ...  ..                ...          ...                 ...   \n",
       "32556  32556  27            Private   Assoc-acdm        Tech-support   \n",
       "32557  32557  40            Private      HS-grad   Machine-op-inspct   \n",
       "32558  32558  58            Private      HS-grad        Adm-clerical   \n",
       "32559  32559  22            Private      HS-grad        Adm-clerical   \n",
       "32560  32560  52       Self-emp-inc      HS-grad     Exec-managerial   \n",
       "\n",
       "       capital.gain  capital.loss  native.country  salaries jobsatisfaction  \\\n",
       "0              2174             0   United-States   43136.0               0   \n",
       "1                 0             0    UnitedStates   46209.0               7   \n",
       "2                 0             0   United-States   28937.0               6   \n",
       "3                 0             0   United-States   33658.0               6   \n",
       "4                 0             0            Cuba   34372.0              12   \n",
       "...             ...           ...             ...       ...             ...   \n",
       "32556             0             0   United-States   21393.0              14   \n",
       "32557             0             0   United-States   75199.0              10   \n",
       "32558             0             0   United-States   25603.0               1   \n",
       "32559             0             0   United-States   42138.0               3   \n",
       "32560         15024             0   United-States   71709.0               9   \n",
       "\n",
       "       male  female  \n",
       "0       1.0     NaN  \n",
       "1       1.0     NaN  \n",
       "2       1.0     NaN  \n",
       "3       1.0     NaN  \n",
       "4       NaN     1.0  \n",
       "...     ...     ...  \n",
       "32556   NaN     1.0  \n",
       "32557   1.0     NaN  \n",
       "32558   NaN     1.0  \n",
       "32559   1.0     NaN  \n",
       "32560   NaN     1.0  \n",
       "\n",
       "[32561 rows x 12 columns]"
      ]
     },
     "execution_count": 11,
     "metadata": {},
     "output_type": "execute_result"
    }
   ],
   "source": [
    "import numpy as np\n",
    "import pandas as pd\n",
    "\n",
    "# TODO\n",
    "data = pd.read_csv(\"adult.csv\", sep='\\t')\n",
    "data"
   ]
  },
  {
   "cell_type": "markdown",
   "metadata": {
    "colab_type": "text",
    "id": "kfVl2ZCYgyFR"
   },
   "source": [
    "**2.1. Name all the columns in this dataset and describe the meaning of each column with one sentence.** <br>"
   ]
  },
  {
   "cell_type": "code",
   "execution_count": 12,
   "metadata": {
    "colab": {},
    "colab_type": "code",
    "id": "Kj0GVWbPgyFS"
   },
   "outputs": [
    {
     "data": {
      "text/plain": [
       "Index(['X', 'age', 'workclass', 'education', 'occupation', 'capital.gain',\n",
       "       'capital.loss', 'native.country', 'salaries', 'jobsatisfaction', 'male',\n",
       "       'female'],\n",
       "      dtype='object')"
      ]
     },
     "execution_count": 12,
     "metadata": {},
     "output_type": "execute_result"
    }
   ],
   "source": [
    "# TODO\n",
    "data.columns"
   ]
  },
  {
   "cell_type": "markdown",
   "metadata": {
    "colab_type": "text",
    "id": "m7LD_44EgyFU"
   },
   "source": [
    "**<font color='red'>Answer:</font>** \"X\" refers to the id of the adult.\n",
    "\n",
    "\"Age\" show old is this adult.\n",
    "\n",
    "\"Workclass\" describes which the adult is working, while \"education\" shows the academic degree.\n",
    "\n",
    "\"Occupation\" shows what this person do.\n",
    "\n",
    "\"Capital gain\" the revenue from assets.\n",
    "\n",
    "\"Capital loss\" decrease the value of the assets.\n",
    "\n",
    "\"Native Country\" describes the native country of the adult.\n",
    "\n",
    "\"Salaries\" shows the salary of adult.\n",
    "\n",
    "\"Jobsatisfaction\"\n",
    "\n",
    "The last two columns shows the gender of the adult."
   ]
  },
  {
   "cell_type": "markdown",
   "metadata": {
    "colab_type": "text",
    "id": "3qgkWuAQgyFU"
   },
   "source": [
    "####  2.1.1. In the following subtasks, you will have to visualise the distribution of the values for different features using appropriate diagrams. Visualisation is one of the easiest ways to get a good overview of the data and to notice any oddities, outliers etc."
   ]
  },
  {
   "cell_type": "code",
   "execution_count": 13,
   "metadata": {
    "colab": {},
    "colab_type": "code",
    "id": "seKrq_6pgyFV"
   },
   "outputs": [],
   "source": [
    "# Matplotlib is a Python 2D plotting library which produces publication quality figures in a variety of hardcopy formats \n",
    "# and interactive environments across platforms. Matplotlib can be used in Python scripts, the Python and IPython shells, \n",
    "# the Jupyter notebook, web application servers, and four graphical user interface toolkits.\n",
    "import matplotlib.pyplot as plt\n",
    "\n",
    "# allows to output plots in the notebook\n",
    "%matplotlib inline \n",
    "\n",
    "# Set the default style\n",
    "plt.style.use(\"ggplot\") "
   ]
  },
  {
   "cell_type": "markdown",
   "metadata": {
    "colab_type": "text",
    "id": "nGn22mj5gyFX"
   },
   "source": [
    "As an example, here is the age frequency histogram, where age is an attribute of type **numeric**:"
   ]
  },
  {
   "cell_type": "code",
   "execution_count": 14,
   "metadata": {
    "colab": {},
    "colab_type": "code",
    "id": "70TQxyBkgyFX"
   },
   "outputs": [
    {
     "data": {
      "image/png": "[encoded data removed]",
      "text/plain": [
       "<Figure size 432x288 with 1 Axes>"
      ]
     },
     "metadata": {
      "needs_background": "light"
     },
     "output_type": "display_data"
    }
   ],
   "source": [
    "# Columns may contain non-numeric values, errors or missing values. Therefore, non-numeric values must be dealt with.\n",
    "if data is not ...:\n",
    "    pd.to_numeric(data['age'], errors='coerce').hist(bins=30) # ‘coerce’ -> invalid parsing will be set as NaN\n",
    "else:\n",
    "    print('Please define `data` in earlier subtasks')"
   ]
  },
  {
   "cell_type": "markdown",
   "metadata": {
    "colab_type": "text",
    "id": "7sHWWIhygyFZ"
   },
   "source": [
    "**2.2. Attribute `Workclass`. First, specify the type of the attribute (nominal / ordinal / numeric) and second, choose an appropriate chart type and visualise the distribution in the relative frequency scale.**"
   ]
  },
  {
   "cell_type": "markdown",
   "metadata": {
    "colab_type": "text",
    "id": "fn8nRBz8gyFa"
   },
   "source": [
    "**<font color='red'>Attribute type :</font>** Nominal"
   ]
  },
  {
   "cell_type": "code",
   "execution_count": 15,
   "metadata": {
    "colab": {},
    "colab_type": "code",
    "id": "ZykR2zwMgyFa"
   },
   "outputs": [
    {
     "data": {
      "image/png": "[encoded data removed]",
      "text/plain": [
       "<Figure size 432x288 with 1 Axes>"
      ]
     },
     "metadata": {},
     "output_type": "display_data"
    }
   ],
   "source": [
    "# TODO\n",
    "data.groupby(\"workclass\")[\"X\"].count().plot(kind=\"pie\");"
   ]
  },
  {
   "cell_type": "markdown",
   "metadata": {
    "colab_type": "text",
    "id": "ic6lq5ergyFc"
   },
   "source": [
    "**2.3. Attribute `Education`. First, specify the type of the attribute (nominal / ordinal / numeric) and second, choose an appropriate chart type and visualise the distribution in the relative frequency scale.**"
   ]
  },
  {
   "cell_type": "markdown",
   "metadata": {
    "colab_type": "text",
    "id": "C1zSn4tygyFd"
   },
   "source": [
    "**<font color='red'>Attribute type :</font>** Nominal."
   ]
  },
  {
   "cell_type": "code",
   "execution_count": 16,
   "metadata": {
    "colab": {},
    "colab_type": "code",
    "id": "YxFaVtnCgyFd"
   },
   "outputs": [
    {
     "data": {
      "image/png": "[encoded data removed]",
      "text/plain": [
       "<Figure size 432x288 with 1 Axes>"
      ]
     },
     "metadata": {
      "needs_background": "light"
     },
     "output_type": "display_data"
    }
   ],
   "source": [
    "# TODO\n",
    "data.groupby(\"education\")[\"X\"].count().plot(kind=\"bar\");"
   ]
  },
  {
   "cell_type": "markdown",
   "metadata": {
    "colab_type": "text",
    "id": "fDoBsgchgyFf"
   },
   "source": [
    "**2.4. Attribute `Occupation`. First, specify the type of the attribute (nominal / ordinal / numeric) and second, choose an appropriate chart type and visualise the distribution in the relative frequency scale.**"
   ]
  },
  {
   "cell_type": "markdown",
   "metadata": {
    "colab_type": "text",
    "id": "mX0UIBsSgyFf"
   },
   "source": [
    "**<font color='red'>Attribute type :</font>** Nominal."
   ]
  },
  {
   "cell_type": "code",
   "execution_count": 17,
   "metadata": {
    "colab": {},
    "colab_type": "code",
    "id": "FtrZuF9XgyFg",
    "scrolled": false
   },
   "outputs": [
    {
     "data": {
      "image/png": "[encoded data removed]",
      "text/plain": [
       "<Figure size 432x288 with 1 Axes>"
      ]
     },
     "metadata": {
      "needs_background": "light"
     },
     "output_type": "display_data"
    }
   ],
   "source": [
    "# TODO\n",
    "data.occupation.value_counts().plot(kind=\"bar\");"
   ]
  },
  {
   "cell_type": "markdown",
   "metadata": {
    "colab_type": "text",
    "id": "OUykwd4-gyFi"
   },
   "source": [
    "**2.5. Attribute `Native Country`. First, specify the type of the attribute (nominal / ordinal / numeric) and second, choose an appropriate chart type and visualise the distribution in the relative frequency scale.**"
   ]
  },
  {
   "cell_type": "markdown",
   "metadata": {
    "colab_type": "text",
    "id": "b40iyT1ggyFi"
   },
   "source": [
    "**<font color='red'>Attribute type :</font>** Nominal."
   ]
  },
  {
   "cell_type": "code",
   "execution_count": 18,
   "metadata": {
    "colab": {},
    "colab_type": "code",
    "id": "6jwSal9ogyFj",
    "scrolled": false
   },
   "outputs": [
    {
     "name": "stdout",
     "output_type": "stream",
     "text": [
      "Name X |Total of '?' is 0 |Percentage 0.0%\n",
      "Name age |Total of '?' is 97 |Percentage 0.29790239857498235%\n",
      "Name workclass |Total of '?' is 1933 |Percentage 5.936549860262277%\n",
      "Name education |Total of '?' is 1933 |Percentage 5.936549860262277%\n",
      "Name occupation |Total of '?' is 3776 |Percentage 11.596695433186941%\n",
      "Name capital.gain |Total of '?' is 3776 |Percentage 11.596695433186941%\n",
      "Name capital.loss |Total of '?' is 3776 |Percentage 11.596695433186941%\n",
      "Name native.country |Total of '?' is 4359 |Percentage 13.387180983385031%\n",
      "Name salaries |Total of '?' is 4359 |Percentage 13.387180983385031%\n",
      "Name jobsatisfaction |Total of '?' is 4359 |Percentage 13.387180983385031%\n",
      "Name male |Total of '?' is 4359 |Percentage 13.387180983385031%\n",
      "Name female |Total of '?' is 4359 |Percentage 13.387180983385031%\n"
     ]
    }
   ],
   "source": [
    "# TODO\n",
    "total_rows = 32561\n",
    "total_missing = 0;\n",
    "if data is not ...:\n",
    "    for column in data.columns:\n",
    "        for row in data[column]:\n",
    "            if str(row).strip() == '?':\n",
    "                total_missing += 1\n",
    "        print(\"Name \" + column + \" |Total of '?' is \" + str(total_missing) + \" |Percentage \" + str(100*total_missing/total_rows) + \"%\")\n",
    "else:\n",
    "    print('Please define `data` in earlier subtasks')"
   ]
  },
  {
   "cell_type": "markdown",
   "metadata": {
    "colab_type": "text",
    "id": "9noaPZsHgyFl"
   },
   "source": [
    "**2.6. Attribute `Salaries`. First, specify the type of the attribute (nominal / ordinal / numeric) and second, choose an appropriate chart type and visualise the distribution in the density scale.**"
   ]
  },
  {
   "cell_type": "markdown",
   "metadata": {
    "colab_type": "text",
    "id": "N4sTxrttgyFl"
   },
   "source": [
    "**<font color='red'>Attribute type :</font>** Numeric."
   ]
  },
  {
   "cell_type": "code",
   "execution_count": 19,
   "metadata": {
    "colab": {},
    "colab_type": "code",
    "id": "7tg9bjOzgyFm",
    "scrolled": false
   },
   "outputs": [
    {
     "data": {
      "image/png": "[encoded data removed]",
      "text/plain": [
       "<Figure size 432x288 with 1 Axes>"
      ]
     },
     "metadata": {
      "needs_background": "light"
     },
     "output_type": "display_data"
    }
   ],
   "source": [
    "# TODO \n",
    "if data is not ...:\n",
    "    pd.to_numeric(data['salaries'], errors='coerce').hist(bins=30) \n",
    "else:\n",
    "    print('Please define `data` in earlier subtasks')"
   ]
  },
  {
   "cell_type": "markdown",
   "metadata": {
    "colab_type": "text",
    "id": "HzDSxjzsgyFo"
   },
   "source": [
    "**2.7. Attributes `Male` and `Female`. First, specify the types of these attributes (nominal / ordinal / numeric) and second, choose an appropriate chart type and visualise the relative frequency of positive values in attribute `Male` and positive values in attribute `Female` (relative frequency of males and females).**"
   ]
  },
  {
   "cell_type": "markdown",
   "metadata": {
    "colab_type": "text",
    "id": "gpNd1Z7XgyFo"
   },
   "source": [
    "**<font color='red'>Attribute type :</font>** Nominal."
   ]
  },
  {
   "cell_type": "code",
   "execution_count": 20,
   "metadata": {
    "colab": {},
    "colab_type": "code",
    "id": "VokObsU2gyFp",
    "scrolled": false
   },
   "outputs": [
    {
     "data": {
      "text/plain": [
       "<matplotlib.axes._subplots.AxesSubplot at 0x24af87e0d88>"
      ]
     },
     "execution_count": 20,
     "metadata": {},
     "output_type": "execute_result"
    },
    {
     "data": {
      "image/png": "[encoded data removed]",
      "text/plain": [
       "<Figure size 432x288 with 1 Axes>"
      ]
     },
     "metadata": {
      "needs_background": "light"
     },
     "output_type": "display_data"
    }
   ],
   "source": [
    "# TODO - Put Male and Female attributes on the same plot for comparison\n",
    "data[['male', 'female']].agg('count')\n",
    "(data[['male', 'female']].agg('count')/data.shape[0]).plot(kind='bar')"
   ]
  },
  {
   "cell_type": "markdown",
   "metadata": {
    "colab_type": "text",
    "id": "-TqRzwEZgyFr"
   },
   "source": [
    "**2.8. Count the number of missing values in each attribute in the dataset and also report the percentage of missing values out of all rows (the original file uses '?' for missing values)**"
   ]
  },
  {
   "cell_type": "code",
   "execution_count": 21,
   "metadata": {
    "colab": {},
    "colab_type": "code",
    "id": "8OCwVGZ7gyFr",
    "scrolled": true
   },
   "outputs": [
    {
     "name": "stdout",
     "output_type": "stream",
     "text": [
      "Column: XTotal number of '?' is 0. Percentage is 0.0%\n",
      "Column: ageTotal number of '?' is 97. Percentage is 0.29790239857498235%\n",
      "Column: workclassTotal number of '?' is 1933. Percentage is 5.936549860262277%\n",
      "Column: educationTotal number of '?' is 1933. Percentage is 5.936549860262277%\n",
      "Column: occupationTotal number of '?' is 3776. Percentage is 11.596695433186941%\n",
      "Column: capital.gainTotal number of '?' is 3776. Percentage is 11.596695433186941%\n",
      "Column: capital.lossTotal number of '?' is 3776. Percentage is 11.596695433186941%\n",
      "Column: native.countryTotal number of '?' is 4359. Percentage is 13.387180983385031%\n",
      "Column: salariesTotal number of '?' is 4359. Percentage is 13.387180983385031%\n",
      "Column: jobsatisfactionTotal number of '?' is 4359. Percentage is 13.387180983385031%\n",
      "Column: maleTotal number of '?' is 4359. Percentage is 13.387180983385031%\n",
      "Column: femaleTotal number of '?' is 4359. Percentage is 13.387180983385031%\n"
     ]
    }
   ],
   "source": [
    "#TODO\n",
    "\n",
    "rows = 32561\n",
    "missing = 0;\n",
    "if data is not ...:\n",
    "    for column in data.columns:\n",
    "        for row in data[column]:\n",
    "            if str(row).strip() == '?':\n",
    "                missing += 1\n",
    "        print(\"Column: \" + column + \"Total number of '?' is \" + str(missing) + \". Percentage is \" + str(100*missing/rows) + \"%\")\n",
    "else:\n",
    "    print('Please define `data` in earlier subtasks')"
   ]
  },
  {
   "cell_type": "markdown",
   "metadata": {
    "colab_type": "text",
    "id": "zA0tQqQ-gyFu"
   },
   "source": [
    "# 3.  Data preparation (1.5 points)"
   ]
  },
  {
   "cell_type": "markdown",
   "metadata": {
    "colab_type": "text",
    "id": "5oLOS7LWgyFu"
   },
   "source": [
    "Preparing the data for analysis is the most crucial phase in data analysis. In this exercise, the main goal is to clean up the dataset 'adult'. The dataset has been made unclean on purpose so that you can practice cleaning it up. Most of the introduced uncleanliness is of the same kinds as described in slides of Lecture 02. Additionally, some values have been introduced which are non-sensical due to the meaning of the attribute.<br>"
   ]
  },
  {
   "cell_type": "markdown",
   "metadata": {
    "colab_type": "text",
    "id": "H_S7GNXCgyFv"
   },
   "source": [
    "First, let's make a deep copy of the original DataFrame. Later we will compare it to the cleaned/modified DataFrame."
   ]
  },
  {
   "cell_type": "code",
   "execution_count": 22,
   "metadata": {
    "colab": {},
    "colab_type": "code",
    "id": "oTT78CZtgyFv",
    "scrolled": false
   },
   "outputs": [],
   "source": [
    "if data is not ...:\n",
    "    original_data = data.copy(deep=True) # Make a deep copy, including a copy of the data and the indices"
   ]
  },
  {
   "cell_type": "markdown",
   "metadata": {
    "colab_type": "text",
    "id": "XPjMB5BfgyFx"
   },
   "source": [
    "**3.1. Sometimes values include leading and/or trailing spaces. Remove leading and trailing whitespace from strings. Count how many rows were changed in the dataset.** <br>"
   ]
  },
  {
   "cell_type": "code",
   "execution_count": 26,
   "metadata": {
    "colab": {},
    "colab_type": "code",
    "id": "nLDSg2s0gyFx"
   },
   "outputs": [],
   "source": [
    "# TODO\n",
    "original_data[column] = str(original_data[column]).strip()"
   ]
  },
  {
   "cell_type": "markdown",
   "metadata": {
    "colab_type": "text",
    "id": "ypKQ7rHDgyFz"
   },
   "source": [
    "Use code below to count how many rows were affected."
   ]
  },
  {
   "cell_type": "code",
   "execution_count": 27,
   "metadata": {
    "colab": {},
    "colab_type": "code",
    "id": "p1GVNw05gyF1"
   },
   "outputs": [
    {
     "name": "stdout",
     "output_type": "stream",
     "text": [
      "Difference: 32561\n"
     ]
    }
   ],
   "source": [
    "# Count differences\n",
    "if data is not ...:\n",
    "    data_all = pd.concat([original_data, data]).drop_duplicates()\n",
    "    diff = data_all.shape[0] - data.shape[0]\n",
    "    print ('Difference: ' + str(diff))"
   ]
  },
  {
   "cell_type": "markdown",
   "metadata": {
    "colab_type": "text",
    "id": "_rfkpGsJgyF3"
   },
   "source": [
    "**<font color='red'>Answer:</font>** 32561 rows has changed."
   ]
  },
  {
   "cell_type": "markdown",
   "metadata": {
    "colab_type": "text",
    "id": "BBT286CHgyF3"
   },
   "source": [
    "**3.2. Replace all non-sensical values in `data` with np.nan from numpy package to denote missing values (Original file uses '?' for missing values). Fix the typos in the dataset. Justify all the changes that you do, explaining why you are sure that this is a correct change and what you think the cause for such error could be.**  <br>"
   ]
  },
  {
   "cell_type": "code",
   "execution_count": 120,
   "metadata": {
    "colab": {},
    "colab_type": "code",
    "id": "IETuPnl6gyF4"
   },
   "outputs": [
    {
     "data": {
      "text/html": [
       "<div>\n",
       "<style scoped>\n",
       "    .dataframe tbody tr th:only-of-type {\n",
       "        vertical-align: middle;\n",
       "    }\n",
       "\n",
       "    .dataframe tbody tr th {\n",
       "        vertical-align: top;\n",
       "    }\n",
       "\n",
       "    .dataframe thead th {\n",
       "        text-align: right;\n",
       "    }\n",
       "</style>\n",
       "<table border=\"1\" class=\"dataframe\">\n",
       "  <thead>\n",
       "    <tr style=\"text-align: right;\">\n",
       "      <th></th>\n",
       "      <th>X</th>\n",
       "      <th>age</th>\n",
       "      <th>workclass</th>\n",
       "      <th>education</th>\n",
       "      <th>occupation</th>\n",
       "      <th>capital.gain</th>\n",
       "      <th>capital.loss</th>\n",
       "      <th>native.country</th>\n",
       "      <th>salaries</th>\n",
       "      <th>jobsatisfaction</th>\n",
       "      <th>male</th>\n",
       "      <th>female</th>\n",
       "    </tr>\n",
       "  </thead>\n",
       "  <tbody>\n",
       "    <tr>\n",
       "      <td>0</td>\n",
       "      <td>0</td>\n",
       "      <td>39</td>\n",
       "      <td>private</td>\n",
       "      <td>Bachelors</td>\n",
       "      <td>Adm-clerical</td>\n",
       "      <td>2174</td>\n",
       "      <td>0</td>\n",
       "      <td>United-States</td>\n",
       "      <td>43136.0</td>\n",
       "      <td>0</td>\n",
       "      <td>1.0</td>\n",
       "      <td>0        NaN\\n1        NaN\\n2        NaN\\n3   ...</td>\n",
       "    </tr>\n",
       "    <tr>\n",
       "      <td>1</td>\n",
       "      <td>1</td>\n",
       "      <td>50</td>\n",
       "      <td>private</td>\n",
       "      <td>Bachelors</td>\n",
       "      <td>Exec-managerial</td>\n",
       "      <td>0</td>\n",
       "      <td>0</td>\n",
       "      <td>United-States</td>\n",
       "      <td>46209.0</td>\n",
       "      <td>7</td>\n",
       "      <td>1.0</td>\n",
       "      <td>0        NaN\\n1        NaN\\n2        NaN\\n3   ...</td>\n",
       "    </tr>\n",
       "    <tr>\n",
       "      <td>2</td>\n",
       "      <td>2</td>\n",
       "      <td>38</td>\n",
       "      <td>private</td>\n",
       "      <td>HS-grad</td>\n",
       "      <td>Handlers-cleaners</td>\n",
       "      <td>0</td>\n",
       "      <td>0</td>\n",
       "      <td>United-States</td>\n",
       "      <td>28937.0</td>\n",
       "      <td>6</td>\n",
       "      <td>1.0</td>\n",
       "      <td>0        NaN\\n1        NaN\\n2        NaN\\n3   ...</td>\n",
       "    </tr>\n",
       "    <tr>\n",
       "      <td>3</td>\n",
       "      <td>3</td>\n",
       "      <td>53</td>\n",
       "      <td>private</td>\n",
       "      <td>11th</td>\n",
       "      <td>Handlers-cleaners</td>\n",
       "      <td>0</td>\n",
       "      <td>0</td>\n",
       "      <td>United-States</td>\n",
       "      <td>33658.0</td>\n",
       "      <td>6</td>\n",
       "      <td>1.0</td>\n",
       "      <td>0        NaN\\n1        NaN\\n2        NaN\\n3   ...</td>\n",
       "    </tr>\n",
       "    <tr>\n",
       "      <td>4</td>\n",
       "      <td>4</td>\n",
       "      <td>28</td>\n",
       "      <td>private</td>\n",
       "      <td>Bachelors</td>\n",
       "      <td>Prof-specialty</td>\n",
       "      <td>0</td>\n",
       "      <td>0</td>\n",
       "      <td>United-States</td>\n",
       "      <td>34372.0</td>\n",
       "      <td>12</td>\n",
       "      <td>NaN</td>\n",
       "      <td>0        NaN\\n1        NaN\\n2        NaN\\n3   ...</td>\n",
       "    </tr>\n",
       "    <tr>\n",
       "      <td>...</td>\n",
       "      <td>...</td>\n",
       "      <td>...</td>\n",
       "      <td>...</td>\n",
       "      <td>...</td>\n",
       "      <td>...</td>\n",
       "      <td>...</td>\n",
       "      <td>...</td>\n",
       "      <td>...</td>\n",
       "      <td>...</td>\n",
       "      <td>...</td>\n",
       "      <td>...</td>\n",
       "      <td>...</td>\n",
       "    </tr>\n",
       "    <tr>\n",
       "      <td>32556</td>\n",
       "      <td>32556</td>\n",
       "      <td>27</td>\n",
       "      <td>private</td>\n",
       "      <td>Assoc-acdm</td>\n",
       "      <td>Tech-support</td>\n",
       "      <td>0</td>\n",
       "      <td>0</td>\n",
       "      <td>United-States</td>\n",
       "      <td>21393.0</td>\n",
       "      <td>14</td>\n",
       "      <td>NaN</td>\n",
       "      <td>0        NaN\\n1        NaN\\n2        NaN\\n3   ...</td>\n",
       "    </tr>\n",
       "    <tr>\n",
       "      <td>32557</td>\n",
       "      <td>32557</td>\n",
       "      <td>40</td>\n",
       "      <td>private</td>\n",
       "      <td>HS-grad</td>\n",
       "      <td>Machine-op-inspct</td>\n",
       "      <td>0</td>\n",
       "      <td>0</td>\n",
       "      <td>United-States</td>\n",
       "      <td>75199.0</td>\n",
       "      <td>10</td>\n",
       "      <td>1.0</td>\n",
       "      <td>0        NaN\\n1        NaN\\n2        NaN\\n3   ...</td>\n",
       "    </tr>\n",
       "    <tr>\n",
       "      <td>32558</td>\n",
       "      <td>32558</td>\n",
       "      <td>58</td>\n",
       "      <td>private</td>\n",
       "      <td>HS-grad</td>\n",
       "      <td>Adm-clerical</td>\n",
       "      <td>0</td>\n",
       "      <td>0</td>\n",
       "      <td>United-States</td>\n",
       "      <td>25603.0</td>\n",
       "      <td>1</td>\n",
       "      <td>NaN</td>\n",
       "      <td>0        NaN\\n1        NaN\\n2        NaN\\n3   ...</td>\n",
       "    </tr>\n",
       "    <tr>\n",
       "      <td>32559</td>\n",
       "      <td>32559</td>\n",
       "      <td>22</td>\n",
       "      <td>private</td>\n",
       "      <td>HS-grad</td>\n",
       "      <td>Adm-clerical</td>\n",
       "      <td>0</td>\n",
       "      <td>0</td>\n",
       "      <td>United-States</td>\n",
       "      <td>42138.0</td>\n",
       "      <td>3</td>\n",
       "      <td>1.0</td>\n",
       "      <td>0        NaN\\n1        NaN\\n2        NaN\\n3   ...</td>\n",
       "    </tr>\n",
       "    <tr>\n",
       "      <td>32560</td>\n",
       "      <td>32560</td>\n",
       "      <td>52</td>\n",
       "      <td>private</td>\n",
       "      <td>HS-grad</td>\n",
       "      <td>Exec-managerial</td>\n",
       "      <td>15024</td>\n",
       "      <td>0</td>\n",
       "      <td>United-States</td>\n",
       "      <td>71709.0</td>\n",
       "      <td>9</td>\n",
       "      <td>NaN</td>\n",
       "      <td>0        NaN\\n1        NaN\\n2        NaN\\n3   ...</td>\n",
       "    </tr>\n",
       "  </tbody>\n",
       "</table>\n",
       "<p>32561 rows × 12 columns</p>\n",
       "</div>"
      ],
      "text/plain": [
       "           X age workclass    education          occupation  capital.gain  \\\n",
       "0          0  39   private    Bachelors        Adm-clerical          2174   \n",
       "1          1  50   private    Bachelors     Exec-managerial             0   \n",
       "2          2  38   private      HS-grad   Handlers-cleaners             0   \n",
       "3          3  53   private         11th   Handlers-cleaners             0   \n",
       "4          4  28   private    Bachelors      Prof-specialty             0   \n",
       "...      ...  ..       ...          ...                 ...           ...   \n",
       "32556  32556  27   private   Assoc-acdm        Tech-support             0   \n",
       "32557  32557  40   private      HS-grad   Machine-op-inspct             0   \n",
       "32558  32558  58   private      HS-grad        Adm-clerical             0   \n",
       "32559  32559  22   private      HS-grad        Adm-clerical             0   \n",
       "32560  32560  52   private      HS-grad     Exec-managerial         15024   \n",
       "\n",
       "       capital.loss native.country  salaries jobsatisfaction  male  \\\n",
       "0                 0  United-States   43136.0               0   1.0   \n",
       "1                 0  United-States   46209.0               7   1.0   \n",
       "2                 0  United-States   28937.0               6   1.0   \n",
       "3                 0  United-States   33658.0               6   1.0   \n",
       "4                 0  United-States   34372.0              12   NaN   \n",
       "...             ...            ...       ...             ...   ...   \n",
       "32556             0  United-States   21393.0              14   NaN   \n",
       "32557             0  United-States   75199.0              10   1.0   \n",
       "32558             0  United-States   25603.0               1   NaN   \n",
       "32559             0  United-States   42138.0               3   1.0   \n",
       "32560             0  United-States   71709.0               9   NaN   \n",
       "\n",
       "                                                  female  \n",
       "0      0        NaN\\n1        NaN\\n2        NaN\\n3   ...  \n",
       "1      0        NaN\\n1        NaN\\n2        NaN\\n3   ...  \n",
       "2      0        NaN\\n1        NaN\\n2        NaN\\n3   ...  \n",
       "3      0        NaN\\n1        NaN\\n2        NaN\\n3   ...  \n",
       "4      0        NaN\\n1        NaN\\n2        NaN\\n3   ...  \n",
       "...                                                  ...  \n",
       "32556  0        NaN\\n1        NaN\\n2        NaN\\n3   ...  \n",
       "32557  0        NaN\\n1        NaN\\n2        NaN\\n3   ...  \n",
       "32558  0        NaN\\n1        NaN\\n2        NaN\\n3   ...  \n",
       "32559  0        NaN\\n1        NaN\\n2        NaN\\n3   ...  \n",
       "32560  0        NaN\\n1        NaN\\n2        NaN\\n3   ...  \n",
       "\n",
       "[32561 rows x 12 columns]"
      ]
     },
     "execution_count": 120,
     "metadata": {},
     "output_type": "execute_result"
    }
   ],
   "source": [
    "# TODO\n",
    "if data is not...:\n",
    "    for column in original_data.columns:\n",
    "        for row in original_data[column]:\n",
    "            if str(row) == \"?\":\n",
    "                np.nan(str(row))\n",
    "\n",
    "original_data[\"workclass\"]=original_data.workclass.str.lower()\n",
    "original_data[\"native.country\"]=original_data[\"native.country\"].apply(lambda x: \"United-States\" if \"UnitedStates\" or \"Unitedstates\" else x)\n",
    "original_data[\"workclass\"]=original_data[\"workclass\"].apply(lambda x: \"private\" if \"privat\" else x)\n",
    "original_data"
   ]
  },
  {
   "cell_type": "markdown",
   "metadata": {
    "colab_type": "text",
    "id": "rsO6f0E3gyF6"
   },
   "source": [
    "**<font color='red'>Answer:</font>** Answer goes here."
   ]
  },
  {
   "cell_type": "markdown",
   "metadata": {
    "colab_type": "text",
    "id": "BRZ8piLMgyF6"
   },
   "source": [
    "**3.3. Count the rows which were changed in the subtask b** <br>"
   ]
  },
  {
   "cell_type": "code",
   "execution_count": 121,
   "metadata": {
    "colab": {},
    "colab_type": "code",
    "id": "MeyNTYLegyF8",
    "scrolled": true
   },
   "outputs": [
    {
     "name": "stdout",
     "output_type": "stream",
     "text": [
      "Difference: 32561\n"
     ]
    }
   ],
   "source": [
    "# TODO\n",
    "if data is not ...:\n",
    "    data_all = pd.concat([original_data, data]).drop_duplicates()\n",
    "    diff = data_all.shape[0] - data.shape[0]\n",
    "    print ('Difference: ' + str(diff))"
   ]
  },
  {
   "cell_type": "markdown",
   "metadata": {
    "colab_type": "text",
    "id": "FLjQtWwygyF-"
   },
   "source": [
    "**<font color='red'>Answer:</font>** 32561"
   ]
  },
  {
   "cell_type": "markdown",
   "metadata": {
    "colab_type": "text",
    "id": "SMz9X0figyF_"
   },
   "source": [
    "**3.4. Report values that look suspicious whereas you are not sure whether they are definitely wrong** <br> "
   ]
  },
  {
   "cell_type": "markdown",
   "metadata": {
    "colab_type": "text",
    "id": "_07BDDEJgyF_"
   },
   "source": [
    "**<font color='red'>Answer:</font>** Answer goes here."
   ]
  },
  {
   "cell_type": "markdown",
   "metadata": {
    "colab_type": "text",
    "id": "W9KyP9U8gyGB"
   },
   "source": [
    "# 4.  Gathering interesting facts about the adult dataset (1.5 points)"
   ]
  },
  {
   "cell_type": "markdown",
   "metadata": {
    "colab_type": "text",
    "id": "srZFaEN4gyGB"
   },
   "source": [
    "Useful information about the data can be acquired through visualization even before modeling."
   ]
  },
  {
   "cell_type": "markdown",
   "metadata": {
    "colab_type": "text",
    "id": "pRkB8hD3gyGB"
   },
   "source": [
    "**4.1. Convert the attribute `Education` into type `category` and introduce the order for this attribute based on the educational level (e.g. Masters is higher education than Bachelors; use your best guess in ordering those levels for which the order is not obvious). Create a bar chart visualising the relative frequencies of values.**"
   ]
  },
  {
   "cell_type": "code",
   "execution_count": 146,
   "metadata": {
    "colab": {},
    "colab_type": "code",
    "id": "jOk7vRjXgyGC"
   },
   "outputs": [
    {
     "data": {
      "text/plain": [
       "<matplotlib.axes._subplots.AxesSubplot at 0x24af7ffbfc8>"
      ]
     },
     "execution_count": 146,
     "metadata": {},
     "output_type": "execute_result"
    },
    {
     "data": {
      "image/png": "[encoded data removed]",
      "text/plain": [
       "<Figure size 432x288 with 1 Axes>"
      ]
     },
     "metadata": {
      "needs_background": "light"
     },
     "output_type": "display_data"
    }
   ],
   "source": [
    "# TODO\n",
    "original_data[\"education\"] = original_data[\"education\"].astype(\"category\")\n",
    "edu_levels=(\"Preschool\",\"1st-4th\",\"5th-6th\",\"7th-8th\",\"9th\",\"10th\",\"11th\",\"12th\",\"HS-grad\",\"Some-college\",\"Assoc-voc\",\"Assoc-acdm\",\"Bachelors\",\"Masters\",\"Prof-school\",\"Doctorate\")\n",
    "original_data.education = original_data.education.cat.reorder_categories(edu_levels, ordered=True)\n",
    "(original_data.education.value_counts()/len(original_data)).plot(kind='bar')"
   ]
  },
  {
   "cell_type": "raw",
   "metadata": {
    "colab_type": "text",
    "id": "xqfN3JGdgyGE"
   },
   "source": [
    "# **4.2.  Create and print a Pandas data frame where each row stands for an occupation, each column stands for a level of education, and the cells in the table contain the average salary of people with the corresponding occupation and education level.** <br> \n",
    "Hint 1: You can use crosstab, see also aggfunc from the pandas documentation."
   ]
  },
  {
   "cell_type": "code",
   "execution_count": 59,
   "metadata": {
    "colab": {},
    "colab_type": "code",
    "id": "ZP9FpDmQgyGE",
    "scrolled": false
   },
   "outputs": [
    {
     "data": {
      "text/html": [
       "<div>\n",
       "<style scoped>\n",
       "    .dataframe tbody tr th:only-of-type {\n",
       "        vertical-align: middle;\n",
       "    }\n",
       "\n",
       "    .dataframe tbody tr th {\n",
       "        vertical-align: top;\n",
       "    }\n",
       "\n",
       "    .dataframe thead th {\n",
       "        text-align: right;\n",
       "    }\n",
       "</style>\n",
       "<table border=\"1\" class=\"dataframe\">\n",
       "  <thead>\n",
       "    <tr style=\"text-align: right;\">\n",
       "      <th>education</th>\n",
       "      <th>10th</th>\n",
       "      <th>11th</th>\n",
       "      <th>12th</th>\n",
       "      <th>1st-4th</th>\n",
       "      <th>5th-6th</th>\n",
       "      <th>7th-8th</th>\n",
       "      <th>9th</th>\n",
       "      <th>Assoc-acdm</th>\n",
       "      <th>Assoc-voc</th>\n",
       "      <th>Bachelors</th>\n",
       "      <th>Doctorate</th>\n",
       "      <th>HS-grad</th>\n",
       "      <th>Masters</th>\n",
       "      <th>Preschool</th>\n",
       "      <th>Prof-school</th>\n",
       "      <th>Some-college</th>\n",
       "    </tr>\n",
       "    <tr>\n",
       "      <th>occupation</th>\n",
       "      <th></th>\n",
       "      <th></th>\n",
       "      <th></th>\n",
       "      <th></th>\n",
       "      <th></th>\n",
       "      <th></th>\n",
       "      <th></th>\n",
       "      <th></th>\n",
       "      <th></th>\n",
       "      <th></th>\n",
       "      <th></th>\n",
       "      <th></th>\n",
       "      <th></th>\n",
       "      <th></th>\n",
       "      <th></th>\n",
       "      <th></th>\n",
       "    </tr>\n",
       "  </thead>\n",
       "  <tbody>\n",
       "    <tr>\n",
       "      <td>?</td>\n",
       "      <td>31292.245514</td>\n",
       "      <td>29582.051563</td>\n",
       "      <td>31123.750000</td>\n",
       "      <td>30193.583333</td>\n",
       "      <td>31864.566667</td>\n",
       "      <td>32282.267662</td>\n",
       "      <td>31683.627451</td>\n",
       "      <td>34653.872340</td>\n",
       "      <td>36020.442623</td>\n",
       "      <td>40028.502890</td>\n",
       "      <td>57649.466667</td>\n",
       "      <td>33286.817648</td>\n",
       "      <td>43630.416667</td>\n",
       "      <td>24989.200000</td>\n",
       "      <td>46083.555556</td>\n",
       "      <td>32974.985753</td>\n",
       "    </tr>\n",
       "    <tr>\n",
       "      <td>Adm-clerical</td>\n",
       "      <td>29957.973684</td>\n",
       "      <td>29976.850746</td>\n",
       "      <td>29722.605263</td>\n",
       "      <td>NaN</td>\n",
       "      <td>26075.000000</td>\n",
       "      <td>35226.909091</td>\n",
       "      <td>32473.000000</td>\n",
       "      <td>34836.388601</td>\n",
       "      <td>33989.095808</td>\n",
       "      <td>38987.468379</td>\n",
       "      <td>43041.600000</td>\n",
       "      <td>34729.643318</td>\n",
       "      <td>42550.852941</td>\n",
       "      <td>31927.500000</td>\n",
       "      <td>44568.111111</td>\n",
       "      <td>34387.942978</td>\n",
       "    </tr>\n",
       "    <tr>\n",
       "      <td>Armed-Forces</td>\n",
       "      <td>NaN</td>\n",
       "      <td>NaN</td>\n",
       "      <td>48635.000000</td>\n",
       "      <td>NaN</td>\n",
       "      <td>NaN</td>\n",
       "      <td>NaN</td>\n",
       "      <td>NaN</td>\n",
       "      <td>NaN</td>\n",
       "      <td>NaN</td>\n",
       "      <td>15014.000000</td>\n",
       "      <td>NaN</td>\n",
       "      <td>35544.000000</td>\n",
       "      <td>67993.000000</td>\n",
       "      <td>NaN</td>\n",
       "      <td>NaN</td>\n",
       "      <td>19421.000000</td>\n",
       "    </tr>\n",
       "    <tr>\n",
       "      <td>Craft-repair</td>\n",
       "      <td>35271.211765</td>\n",
       "      <td>36050.302857</td>\n",
       "      <td>35800.189655</td>\n",
       "      <td>32884.086957</td>\n",
       "      <td>33559.627907</td>\n",
       "      <td>33048.060345</td>\n",
       "      <td>35322.854167</td>\n",
       "      <td>41023.078261</td>\n",
       "      <td>42391.511905</td>\n",
       "      <td>45141.606195</td>\n",
       "      <td>54458.500000</td>\n",
       "      <td>38615.121584</td>\n",
       "      <td>46957.590909</td>\n",
       "      <td>33937.500000</td>\n",
       "      <td>52143.714286</td>\n",
       "      <td>41353.640553</td>\n",
       "    </tr>\n",
       "    <tr>\n",
       "      <td>Exec-managerial</td>\n",
       "      <td>38655.333333</td>\n",
       "      <td>36805.441176</td>\n",
       "      <td>36365.307692</td>\n",
       "      <td>50014.500000</td>\n",
       "      <td>71742.000000</td>\n",
       "      <td>42949.736842</td>\n",
       "      <td>38819.615385</td>\n",
       "      <td>46605.034483</td>\n",
       "      <td>45784.686667</td>\n",
       "      <td>50908.816654</td>\n",
       "      <td>63967.981818</td>\n",
       "      <td>42182.164808</td>\n",
       "      <td>57455.882236</td>\n",
       "      <td>NaN</td>\n",
       "      <td>58638.115385</td>\n",
       "      <td>43447.339022</td>\n",
       "    </tr>\n",
       "    <tr>\n",
       "      <td>Farming-fishing</td>\n",
       "      <td>32535.090909</td>\n",
       "      <td>34774.054054</td>\n",
       "      <td>33999.875000</td>\n",
       "      <td>31450.000000</td>\n",
       "      <td>30814.361111</td>\n",
       "      <td>33664.483009</td>\n",
       "      <td>31886.178571</td>\n",
       "      <td>32939.187858</td>\n",
       "      <td>38431.480769</td>\n",
       "      <td>39866.142857</td>\n",
       "      <td>70039.000000</td>\n",
       "      <td>35043.565395</td>\n",
       "      <td>40793.100000</td>\n",
       "      <td>32559.333333</td>\n",
       "      <td>43915.500000</td>\n",
       "      <td>33912.568114</td>\n",
       "    </tr>\n",
       "    <tr>\n",
       "      <td>Handlers-cleaners</td>\n",
       "      <td>32047.000000</td>\n",
       "      <td>30906.227642</td>\n",
       "      <td>32224.447368</td>\n",
       "      <td>31633.062500</td>\n",
       "      <td>32748.475000</td>\n",
       "      <td>30780.347826</td>\n",
       "      <td>34131.204082</td>\n",
       "      <td>33321.333333</td>\n",
       "      <td>34322.857143</td>\n",
       "      <td>37371.940000</td>\n",
       "      <td>NaN</td>\n",
       "      <td>32552.255672</td>\n",
       "      <td>29983.000000</td>\n",
       "      <td>30799.000000</td>\n",
       "      <td>NaN</td>\n",
       "      <td>32719.355805</td>\n",
       "    </tr>\n",
       "    <tr>\n",
       "      <td>Machine-op-inspct</td>\n",
       "      <td>32183.326733</td>\n",
       "      <td>31165.656566</td>\n",
       "      <td>28159.485714</td>\n",
       "      <td>32227.956522</td>\n",
       "      <td>33421.928571</td>\n",
       "      <td>33776.591398</td>\n",
       "      <td>32178.881579</td>\n",
       "      <td>43272.303030</td>\n",
       "      <td>39073.587302</td>\n",
       "      <td>38791.840580</td>\n",
       "      <td>70502.000000</td>\n",
       "      <td>35660.081200</td>\n",
       "      <td>31144.500000</td>\n",
       "      <td>32628.818182</td>\n",
       "      <td>38026.000000</td>\n",
       "      <td>36279.219355</td>\n",
       "    </tr>\n",
       "    <tr>\n",
       "      <td>Other-service</td>\n",
       "      <td>30484.644330</td>\n",
       "      <td>31202.760504</td>\n",
       "      <td>31881.764706</td>\n",
       "      <td>29770.650000</td>\n",
       "      <td>31433.078125</td>\n",
       "      <td>31001.632653</td>\n",
       "      <td>31044.702970</td>\n",
       "      <td>33145.141026</td>\n",
       "      <td>33618.782609</td>\n",
       "      <td>35861.408840</td>\n",
       "      <td>71626.000000</td>\n",
       "      <td>32137.304029</td>\n",
       "      <td>32017.684211</td>\n",
       "      <td>32498.466667</td>\n",
       "      <td>37343.750000</td>\n",
       "      <td>31471.024328</td>\n",
       "    </tr>\n",
       "    <tr>\n",
       "      <td>Priv-house-serv</td>\n",
       "      <td>33172.000000</td>\n",
       "      <td>27458.428571</td>\n",
       "      <td>34069.250000</td>\n",
       "      <td>25066.363636</td>\n",
       "      <td>26133.071429</td>\n",
       "      <td>28921.250000</td>\n",
       "      <td>33230.200000</td>\n",
       "      <td>16753.500000</td>\n",
       "      <td>34781.250000</td>\n",
       "      <td>37750.428571</td>\n",
       "      <td>NaN</td>\n",
       "      <td>31240.140000</td>\n",
       "      <td>28568.000000</td>\n",
       "      <td>26577.000000</td>\n",
       "      <td>NaN</td>\n",
       "      <td>31587.562500</td>\n",
       "    </tr>\n",
       "    <tr>\n",
       "      <td>Prof-specialty</td>\n",
       "      <td>45071.666667</td>\n",
       "      <td>30745.050000</td>\n",
       "      <td>37524.000000</td>\n",
       "      <td>23128.500000</td>\n",
       "      <td>39091.000000</td>\n",
       "      <td>28300.222222</td>\n",
       "      <td>35095.000000</td>\n",
       "      <td>40030.978261</td>\n",
       "      <td>42809.147059</td>\n",
       "      <td>44600.974582</td>\n",
       "      <td>56764.623053</td>\n",
       "      <td>40999.918455</td>\n",
       "      <td>48030.883886</td>\n",
       "      <td>34861.000000</td>\n",
       "      <td>58333.599558</td>\n",
       "      <td>40584.197674</td>\n",
       "    </tr>\n",
       "    <tr>\n",
       "      <td>Protective-serv</td>\n",
       "      <td>26930.166667</td>\n",
       "      <td>38363.142857</td>\n",
       "      <td>30582.833333</td>\n",
       "      <td>41685.000000</td>\n",
       "      <td>19378.000000</td>\n",
       "      <td>30010.333333</td>\n",
       "      <td>33974.000000</td>\n",
       "      <td>42760.500000</td>\n",
       "      <td>41284.541667</td>\n",
       "      <td>50673.920000</td>\n",
       "      <td>NaN</td>\n",
       "      <td>39481.474419</td>\n",
       "      <td>48472.133333</td>\n",
       "      <td>NaN</td>\n",
       "      <td>64038.000000</td>\n",
       "      <td>43383.000000</td>\n",
       "    </tr>\n",
       "    <tr>\n",
       "      <td>Sales</td>\n",
       "      <td>33370.271605</td>\n",
       "      <td>31411.951389</td>\n",
       "      <td>35273.382979</td>\n",
       "      <td>31324.250000</td>\n",
       "      <td>39858.666667</td>\n",
       "      <td>37247.896552</td>\n",
       "      <td>33974.468750</td>\n",
       "      <td>40032.569444</td>\n",
       "      <td>38573.943396</td>\n",
       "      <td>47796.294190</td>\n",
       "      <td>53759.500000</td>\n",
       "      <td>37536.600561</td>\n",
       "      <td>52718.708955</td>\n",
       "      <td>NaN</td>\n",
       "      <td>52483.888889</td>\n",
       "      <td>38450.688801</td>\n",
       "    </tr>\n",
       "    <tr>\n",
       "      <td>Tech-support</td>\n",
       "      <td>44464.666667</td>\n",
       "      <td>32796.666667</td>\n",
       "      <td>43313.000000</td>\n",
       "      <td>NaN</td>\n",
       "      <td>39695.000000</td>\n",
       "      <td>32947.200000</td>\n",
       "      <td>32152.500000</td>\n",
       "      <td>40934.410959</td>\n",
       "      <td>42085.611111</td>\n",
       "      <td>43159.543478</td>\n",
       "      <td>58249.000000</td>\n",
       "      <td>40867.106918</td>\n",
       "      <td>48925.405405</td>\n",
       "      <td>NaN</td>\n",
       "      <td>42851.857143</td>\n",
       "      <td>40650.135531</td>\n",
       "    </tr>\n",
       "    <tr>\n",
       "      <td>Transport-moving</td>\n",
       "      <td>38104.952381</td>\n",
       "      <td>32254.358696</td>\n",
       "      <td>39585.769231</td>\n",
       "      <td>33409.875000</td>\n",
       "      <td>31557.000000</td>\n",
       "      <td>35341.450000</td>\n",
       "      <td>33625.571429</td>\n",
       "      <td>32465.222222</td>\n",
       "      <td>41845.225000</td>\n",
       "      <td>40176.129032</td>\n",
       "      <td>18726.000000</td>\n",
       "      <td>38235.360684</td>\n",
       "      <td>43370.400000</td>\n",
       "      <td>NaN</td>\n",
       "      <td>67293.333333</td>\n",
       "      <td>39624.395760</td>\n",
       "    </tr>\n",
       "  </tbody>\n",
       "</table>\n",
       "</div>"
      ],
      "text/plain": [
       "education                   10th          11th          12th       1st-4th  \\\n",
       "occupation                                                                   \n",
       " ?                  31292.245514  29582.051563  31123.750000  30193.583333   \n",
       " Adm-clerical       29957.973684  29976.850746  29722.605263           NaN   \n",
       " Armed-Forces                NaN           NaN  48635.000000           NaN   \n",
       " Craft-repair       35271.211765  36050.302857  35800.189655  32884.086957   \n",
       " Exec-managerial    38655.333333  36805.441176  36365.307692  50014.500000   \n",
       " Farming-fishing    32535.090909  34774.054054  33999.875000  31450.000000   \n",
       " Handlers-cleaners  32047.000000  30906.227642  32224.447368  31633.062500   \n",
       " Machine-op-inspct  32183.326733  31165.656566  28159.485714  32227.956522   \n",
       " Other-service      30484.644330  31202.760504  31881.764706  29770.650000   \n",
       " Priv-house-serv    33172.000000  27458.428571  34069.250000  25066.363636   \n",
       " Prof-specialty     45071.666667  30745.050000  37524.000000  23128.500000   \n",
       " Protective-serv    26930.166667  38363.142857  30582.833333  41685.000000   \n",
       " Sales              33370.271605  31411.951389  35273.382979  31324.250000   \n",
       " Tech-support       44464.666667  32796.666667  43313.000000           NaN   \n",
       " Transport-moving   38104.952381  32254.358696  39585.769231  33409.875000   \n",
       "\n",
       "education                5th-6th       7th-8th           9th    Assoc-acdm  \\\n",
       "occupation                                                                   \n",
       " ?                  31864.566667  32282.267662  31683.627451  34653.872340   \n",
       " Adm-clerical       26075.000000  35226.909091  32473.000000  34836.388601   \n",
       " Armed-Forces                NaN           NaN           NaN           NaN   \n",
       " Craft-repair       33559.627907  33048.060345  35322.854167  41023.078261   \n",
       " Exec-managerial    71742.000000  42949.736842  38819.615385  46605.034483   \n",
       " Farming-fishing    30814.361111  33664.483009  31886.178571  32939.187858   \n",
       " Handlers-cleaners  32748.475000  30780.347826  34131.204082  33321.333333   \n",
       " Machine-op-inspct  33421.928571  33776.591398  32178.881579  43272.303030   \n",
       " Other-service      31433.078125  31001.632653  31044.702970  33145.141026   \n",
       " Priv-house-serv    26133.071429  28921.250000  33230.200000  16753.500000   \n",
       " Prof-specialty     39091.000000  28300.222222  35095.000000  40030.978261   \n",
       " Protective-serv    19378.000000  30010.333333  33974.000000  42760.500000   \n",
       " Sales              39858.666667  37247.896552  33974.468750  40032.569444   \n",
       " Tech-support       39695.000000  32947.200000  32152.500000  40934.410959   \n",
       " Transport-moving   31557.000000  35341.450000  33625.571429  32465.222222   \n",
       "\n",
       "education              Assoc-voc     Bachelors     Doctorate       HS-grad  \\\n",
       "occupation                                                                   \n",
       " ?                  36020.442623  40028.502890  57649.466667  33286.817648   \n",
       " Adm-clerical       33989.095808  38987.468379  43041.600000  34729.643318   \n",
       " Armed-Forces                NaN  15014.000000           NaN  35544.000000   \n",
       " Craft-repair       42391.511905  45141.606195  54458.500000  38615.121584   \n",
       " Exec-managerial    45784.686667  50908.816654  63967.981818  42182.164808   \n",
       " Farming-fishing    38431.480769  39866.142857  70039.000000  35043.565395   \n",
       " Handlers-cleaners  34322.857143  37371.940000           NaN  32552.255672   \n",
       " Machine-op-inspct  39073.587302  38791.840580  70502.000000  35660.081200   \n",
       " Other-service      33618.782609  35861.408840  71626.000000  32137.304029   \n",
       " Priv-house-serv    34781.250000  37750.428571           NaN  31240.140000   \n",
       " Prof-specialty     42809.147059  44600.974582  56764.623053  40999.918455   \n",
       " Protective-serv    41284.541667  50673.920000           NaN  39481.474419   \n",
       " Sales              38573.943396  47796.294190  53759.500000  37536.600561   \n",
       " Tech-support       42085.611111  43159.543478  58249.000000  40867.106918   \n",
       " Transport-moving   41845.225000  40176.129032  18726.000000  38235.360684   \n",
       "\n",
       "education                Masters     Preschool   Prof-school   Some-college  \n",
       "occupation                                                                   \n",
       " ?                  43630.416667  24989.200000  46083.555556   32974.985753  \n",
       " Adm-clerical       42550.852941  31927.500000  44568.111111   34387.942978  \n",
       " Armed-Forces       67993.000000           NaN           NaN   19421.000000  \n",
       " Craft-repair       46957.590909  33937.500000  52143.714286   41353.640553  \n",
       " Exec-managerial    57455.882236           NaN  58638.115385   43447.339022  \n",
       " Farming-fishing    40793.100000  32559.333333  43915.500000   33912.568114  \n",
       " Handlers-cleaners  29983.000000  30799.000000           NaN   32719.355805  \n",
       " Machine-op-inspct  31144.500000  32628.818182  38026.000000   36279.219355  \n",
       " Other-service      32017.684211  32498.466667  37343.750000   31471.024328  \n",
       " Priv-house-serv    28568.000000  26577.000000           NaN   31587.562500  \n",
       " Prof-specialty     48030.883886  34861.000000  58333.599558   40584.197674  \n",
       " Protective-serv    48472.133333           NaN  64038.000000   43383.000000  \n",
       " Sales              52718.708955           NaN  52483.888889   38450.688801  \n",
       " Tech-support       48925.405405           NaN  42851.857143   40650.135531  \n",
       " Transport-moving   43370.400000           NaN  67293.333333   39624.395760  "
      ]
     },
     "execution_count": 59,
     "metadata": {},
     "output_type": "execute_result"
    }
   ],
   "source": [
    "# TODO\n",
    "crosstab_df = pd.crosstab(original_data.occupation, original_data.education, values = original_data.salaries, aggfunc = \"mean\")\n",
    "crosstab_df"
   ]
  },
  {
   "cell_type": "markdown",
   "metadata": {
    "colab_type": "text",
    "id": "SkfgCZwdgyGG"
   },
   "source": [
    "**4.3. Make a separate plot for each row (occupation) of the table created in subtask b. Choose the type of the plot to convey the information as well as you can.** <br>"
   ]
  },
  {
   "cell_type": "code",
   "execution_count": 64,
   "metadata": {
    "colab": {},
    "colab_type": "code",
    "id": "CgInKfXBgyGG",
    "scrolled": false
   },
   "outputs": [
    {
     "data": {
      "image/png": "[encoded data removed]",
      "text/plain": [
       "<Figure size 432x288 with 1 Axes>"
      ]
     },
     "metadata": {
      "needs_background": "light"
     },
     "output_type": "display_data"
    },
    {
     "data": {
      "image/png": "[encoded data removed]",
      "text/plain": [
       "<Figure size 432x288 with 1 Axes>"
      ]
     },
     "metadata": {
      "needs_background": "light"
     },
     "output_type": "display_data"
    },
    {
     "data": {
      "image/png": "[encoded data removed]",
      "text/plain": [
       "<Figure size 432x288 with 1 Axes>"
      ]
     },
     "metadata": {
      "needs_background": "light"
     },
     "output_type": "display_data"
    },
    {
     "data": {
      "image/png": "[encoded data removed]",
      "text/plain": [
       "<Figure size 432x288 with 1 Axes>"
      ]
     },
     "metadata": {
      "needs_background": "light"
     },
     "output_type": "display_data"
    },
    {
     "data": {
      "image/png": "[encoded data removed]",
      "text/plain": [
       "<Figure size 432x288 with 1 Axes>"
      ]
     },
     "metadata": {
      "needs_background": "light"
     },
     "output_type": "display_data"
    },
    {
     "data": {
      "image/png": "[encoded data removed]",
      "text/plain": [
       "<Figure size 432x288 with 1 Axes>"
      ]
     },
     "metadata": {
      "needs_background": "light"
     },
     "output_type": "display_data"
    },
    {
     "data": {
      "image/png": "[encoded data removed]",
      "text/plain": [
       "<Figure size 432x288 with 1 Axes>"
      ]
     },
     "metadata": {
      "needs_background": "light"
     },
     "output_type": "display_data"
    },
    {
     "data": {
      "image/png": "[encoded data removed]",
      "text/plain": [
       "<Figure size 432x288 with 1 Axes>"
      ]
     },
     "metadata": {
      "needs_background": "light"
     },
     "output_type": "display_data"
    },
    {
     "data": {
      "image/png": "[encoded data removed]",
      "text/plain": [
       "<Figure size 432x288 with 1 Axes>"
      ]
     },
     "metadata": {
      "needs_background": "light"
     },
     "output_type": "display_data"
    },
    {
     "data": {
      "image/png": "[encoded data removed]",
      "text/plain": [
       "<Figure size 432x288 with 1 Axes>"
      ]
     },
     "metadata": {
      "needs_background": "light"
     },
     "output_type": "display_data"
    },
    {
     "data": {
      "image/png": "[encoded data removed]",
      "text/plain": [
       "<Figure size 432x288 with 1 Axes>"
      ]
     },
     "metadata": {
      "needs_background": "light"
     },
     "output_type": "display_data"
    },
    {
     "data": {
      "image/png": "[encoded data removed]",
      "text/plain": [
       "<Figure size 432x288 with 1 Axes>"
      ]
     },
     "metadata": {
      "needs_background": "light"
     },
     "output_type": "display_data"
    },
    {
     "data": {
      "image/png": "[encoded data removed]",
      "text/plain": [
       "<Figure size 432x288 with 1 Axes>"
      ]
     },
     "metadata": {
      "needs_background": "light"
     },
     "output_type": "display_data"
    },
    {
     "data": {
      "image/png": "[encoded data removed]",
      "text/plain": [
       "<Figure size 432x288 with 1 Axes>"
      ]
     },
     "metadata": {
      "needs_background": "light"
     },
     "output_type": "display_data"
    },
    {
     "data": {
      "image/png": "[encoded data removed]",
      "text/plain": [
       "<Figure size 432x288 with 1 Axes>"
      ]
     },
     "metadata": {
      "needs_background": "light"
     },
     "output_type": "display_data"
    }
   ],
   "source": [
    "if crosstab_df is not ...:\n",
    "    for index, row in crosstab_df.iterrows():\n",
    "        row.plot(kind='bar') # TODO \n",
    "        plt.show()"
   ]
  }
 ],
 "metadata": {
  "colab": {
   "name": "Homework 01.ipynb",
   "provenance": []
  },
  "kernelspec": {
   "display_name": "Python 3",
   "language": "python",
   "name": "python3"
  },
  "language_info": {
   "codemirror_mode": {
    "name": "ipython",
    "version": 3
   },
   "file_extension": ".py",
   "mimetype": "text/x-python",
   "name": "python",
   "nbconvert_exporter": "python",
   "pygments_lexer": "ipython3",
   "version": "3.8.3"
  }
 },
 "nbformat": 4,
 "nbformat_minor": 1
}
